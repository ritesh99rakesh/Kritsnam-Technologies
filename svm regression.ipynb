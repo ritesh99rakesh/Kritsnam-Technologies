{
 "cells": [
  {
   "cell_type": "code",
   "execution_count": 2,
   "metadata": {
    "collapsed": true
   },
   "outputs": [],
   "source": [
    "import pandas as pd\n",
    "import numpy as np\n",
    "import matplotlib.pyplot as plt\n",
    "from sklearn import svm\n",
    "from scipy.io import loadmat"
   ]
  },
  {
   "cell_type": "code",
   "execution_count": 3,
   "metadata": {
    "collapsed": true
   },
   "outputs": [],
   "source": [
    "mat = loadmat('nirbeer.mat')"
   ]
  },
  {
   "cell_type": "code",
   "execution_count": 7,
   "metadata": {},
   "outputs": [
    {
     "data": {
      "text/plain": [
       "dict"
      ]
     },
     "execution_count": 7,
     "metadata": {},
     "output_type": "execute_result"
    }
   ],
   "source": [
    "type(mat)"
   ]
  },
  {
   "cell_type": "code",
   "execution_count": 185,
   "metadata": {},
   "outputs": [],
   "source": [
    "Xcal = mat['Xcal']\n",
    "Xtest = mat['Xtest']\n",
    "features = mat['xaxis']\n",
    "ycal = mat['ycal']\n",
    "ytest = mat['ytest']"
   ]
  },
  {
   "cell_type": "code",
   "execution_count": 186,
   "metadata": {},
   "outputs": [
    {
     "data": {
      "text/plain": [
       "926"
      ]
     },
     "execution_count": 186,
     "metadata": {},
     "output_type": "execute_result"
    }
   ],
   "source": [
    "series = []\n",
    "for i in range(Xcal.shape[1]):\n",
    "    series.append(pd.Series(Xcal[:, i]))\n",
    "len(series)"
   ]
  },
  {
   "cell_type": "code",
   "execution_count": 187,
   "metadata": {},
   "outputs": [],
   "source": [
    "data = pd.DataFrame()"
   ]
  },
  {
   "cell_type": "code",
   "execution_count": 188,
   "metadata": {},
   "outputs": [],
   "source": [
    "for i in range(features.shape[1]):\n",
    "    data[features[0, i]] = series[i]"
   ]
  },
  {
   "cell_type": "code",
   "execution_count": 190,
   "metadata": {},
   "outputs": [
    {
     "data": {
      "text/html": [
       "<div>\n",
       "<style scoped>\n",
       "    .dataframe tbody tr th:only-of-type {\n",
       "        vertical-align: middle;\n",
       "    }\n",
       "\n",
       "    .dataframe tbody tr th {\n",
       "        vertical-align: top;\n",
       "    }\n",
       "\n",
       "    .dataframe thead th {\n",
       "        text-align: right;\n",
       "    }\n",
       "</style>\n",
       "<table border=\"1\" class=\"dataframe\">\n",
       "  <thead>\n",
       "    <tr style=\"text-align: right;\">\n",
       "      <th></th>\n",
       "      <th>400</th>\n",
       "      <th>402</th>\n",
       "      <th>404</th>\n",
       "      <th>406</th>\n",
       "      <th>408</th>\n",
       "      <th>410</th>\n",
       "      <th>412</th>\n",
       "      <th>414</th>\n",
       "      <th>416</th>\n",
       "      <th>418</th>\n",
       "      <th>...</th>\n",
       "      <th>2232</th>\n",
       "      <th>2234</th>\n",
       "      <th>2236</th>\n",
       "      <th>2238</th>\n",
       "      <th>2240</th>\n",
       "      <th>2242</th>\n",
       "      <th>2244</th>\n",
       "      <th>2246</th>\n",
       "      <th>2248</th>\n",
       "      <th>2250</th>\n",
       "    </tr>\n",
       "  </thead>\n",
       "  <tbody>\n",
       "    <tr>\n",
       "      <th>0</th>\n",
       "      <td>0.809228</td>\n",
       "      <td>0.839166</td>\n",
       "      <td>0.857076</td>\n",
       "      <td>0.874258</td>\n",
       "      <td>0.884267</td>\n",
       "      <td>0.898585</td>\n",
       "      <td>0.904815</td>\n",
       "      <td>0.905194</td>\n",
       "      <td>0.903488</td>\n",
       "      <td>0.902187</td>\n",
       "      <td>...</td>\n",
       "      <td>3.679895</td>\n",
       "      <td>3.654557</td>\n",
       "      <td>3.653983</td>\n",
       "      <td>3.714209</td>\n",
       "      <td>3.669642</td>\n",
       "      <td>3.625521</td>\n",
       "      <td>3.647152</td>\n",
       "      <td>3.573585</td>\n",
       "      <td>3.623088</td>\n",
       "      <td>3.679775</td>\n",
       "    </tr>\n",
       "    <tr>\n",
       "      <th>1</th>\n",
       "      <td>0.804006</td>\n",
       "      <td>0.826189</td>\n",
       "      <td>0.847709</td>\n",
       "      <td>0.865769</td>\n",
       "      <td>0.877828</td>\n",
       "      <td>0.888752</td>\n",
       "      <td>0.893231</td>\n",
       "      <td>0.894017</td>\n",
       "      <td>0.893292</td>\n",
       "      <td>0.891371</td>\n",
       "      <td>...</td>\n",
       "      <td>3.632740</td>\n",
       "      <td>3.738945</td>\n",
       "      <td>3.601677</td>\n",
       "      <td>3.592955</td>\n",
       "      <td>3.606268</td>\n",
       "      <td>3.657218</td>\n",
       "      <td>3.632019</td>\n",
       "      <td>3.660901</td>\n",
       "      <td>3.635919</td>\n",
       "      <td>3.671539</td>\n",
       "    </tr>\n",
       "    <tr>\n",
       "      <th>2</th>\n",
       "      <td>0.739626</td>\n",
       "      <td>0.762493</td>\n",
       "      <td>0.775604</td>\n",
       "      <td>0.782518</td>\n",
       "      <td>0.788167</td>\n",
       "      <td>0.795419</td>\n",
       "      <td>0.795223</td>\n",
       "      <td>0.793878</td>\n",
       "      <td>0.790986</td>\n",
       "      <td>0.785020</td>\n",
       "      <td>...</td>\n",
       "      <td>3.563812</td>\n",
       "      <td>3.622122</td>\n",
       "      <td>3.617598</td>\n",
       "      <td>3.652315</td>\n",
       "      <td>3.590150</td>\n",
       "      <td>3.710362</td>\n",
       "      <td>3.630672</td>\n",
       "      <td>3.653063</td>\n",
       "      <td>3.566837</td>\n",
       "      <td>3.704355</td>\n",
       "    </tr>\n",
       "    <tr>\n",
       "      <th>3</th>\n",
       "      <td>0.699460</td>\n",
       "      <td>0.713531</td>\n",
       "      <td>0.724313</td>\n",
       "      <td>0.731107</td>\n",
       "      <td>0.736592</td>\n",
       "      <td>0.735468</td>\n",
       "      <td>0.734549</td>\n",
       "      <td>0.731744</td>\n",
       "      <td>0.726163</td>\n",
       "      <td>0.718673</td>\n",
       "      <td>...</td>\n",
       "      <td>3.583575</td>\n",
       "      <td>3.620621</td>\n",
       "      <td>3.682378</td>\n",
       "      <td>3.681044</td>\n",
       "      <td>3.650404</td>\n",
       "      <td>3.645983</td>\n",
       "      <td>3.633222</td>\n",
       "      <td>3.668727</td>\n",
       "      <td>3.650432</td>\n",
       "      <td>3.687260</td>\n",
       "    </tr>\n",
       "    <tr>\n",
       "      <th>4</th>\n",
       "      <td>0.702702</td>\n",
       "      <td>0.716579</td>\n",
       "      <td>0.729258</td>\n",
       "      <td>0.736214</td>\n",
       "      <td>0.741270</td>\n",
       "      <td>0.742020</td>\n",
       "      <td>0.740587</td>\n",
       "      <td>0.737819</td>\n",
       "      <td>0.732221</td>\n",
       "      <td>0.723229</td>\n",
       "      <td>...</td>\n",
       "      <td>3.650906</td>\n",
       "      <td>3.728940</td>\n",
       "      <td>3.614735</td>\n",
       "      <td>3.618842</td>\n",
       "      <td>3.656746</td>\n",
       "      <td>3.622961</td>\n",
       "      <td>3.560679</td>\n",
       "      <td>3.710902</td>\n",
       "      <td>3.653769</td>\n",
       "      <td>3.663029</td>\n",
       "    </tr>\n",
       "  </tbody>\n",
       "</table>\n",
       "<p>5 rows × 926 columns</p>\n",
       "</div>"
      ],
      "text/plain": [
       "       400       402       404       406       408       410       412   \\\n",
       "0  0.809228  0.839166  0.857076  0.874258  0.884267  0.898585  0.904815   \n",
       "1  0.804006  0.826189  0.847709  0.865769  0.877828  0.888752  0.893231   \n",
       "2  0.739626  0.762493  0.775604  0.782518  0.788167  0.795419  0.795223   \n",
       "3  0.699460  0.713531  0.724313  0.731107  0.736592  0.735468  0.734549   \n",
       "4  0.702702  0.716579  0.729258  0.736214  0.741270  0.742020  0.740587   \n",
       "\n",
       "       414       416       418     ...         2232      2234      2236  \\\n",
       "0  0.905194  0.903488  0.902187    ...     3.679895  3.654557  3.653983   \n",
       "1  0.894017  0.893292  0.891371    ...     3.632740  3.738945  3.601677   \n",
       "2  0.793878  0.790986  0.785020    ...     3.563812  3.622122  3.617598   \n",
       "3  0.731744  0.726163  0.718673    ...     3.583575  3.620621  3.682378   \n",
       "4  0.737819  0.732221  0.723229    ...     3.650906  3.728940  3.614735   \n",
       "\n",
       "       2238      2240      2242      2244      2246      2248      2250  \n",
       "0  3.714209  3.669642  3.625521  3.647152  3.573585  3.623088  3.679775  \n",
       "1  3.592955  3.606268  3.657218  3.632019  3.660901  3.635919  3.671539  \n",
       "2  3.652315  3.590150  3.710362  3.630672  3.653063  3.566837  3.704355  \n",
       "3  3.681044  3.650404  3.645983  3.633222  3.668727  3.650432  3.687260  \n",
       "4  3.618842  3.656746  3.622961  3.560679  3.710902  3.653769  3.663029  \n",
       "\n",
       "[5 rows x 926 columns]"
      ]
     },
     "execution_count": 190,
     "metadata": {},
     "output_type": "execute_result"
    }
   ],
   "source": [
    "data.head()"
   ]
  },
  {
   "cell_type": "markdown",
   "metadata": {},
   "source": [
    "## Plotting the data"
   ]
  },
  {
   "cell_type": "code",
   "execution_count": 204,
   "metadata": {},
   "outputs": [
    {
     "data": {
      "text/plain": [
       "[<matplotlib.lines.Line2D at 0x1111123c8>]"
      ]
     },
     "execution_count": 204,
     "metadata": {},
     "output_type": "execute_result"
    },
    {
     "data": {
      "image/png": "[encoded data removed]",
      "text/plain": [
       "<matplotlib.figure.Figure at 0x136b51c88>"
      ]
     },
     "metadata": {},
     "output_type": "display_data"
    }
   ],
   "source": [
    "# Plotting  the first data\n",
    "%matplotlib inline\n",
    "plt.figure(figsize=(8, 5))\n",
    "plt.plot(Xcal[0])"
   ]
  },
  {
   "cell_type": "code",
   "execution_count": 203,
   "metadata": {},
   "outputs": [
    {
     "data": {
      "image/png": "[encoded data removed]",
      "text/plain": [
       "<matplotlib.figure.Figure at 0x1168391d0>"
      ]
     },
     "metadata": {},
     "output_type": "display_data"
    }
   ],
   "source": [
    "#Plotting the first 5 data points\n",
    "plt.figure(figsize=(8, 5))\n",
    "for i in range(5):\n",
    "    plt.plot(Xcal[i])"
   ]
  },
  {
   "cell_type": "code",
   "execution_count": null,
   "metadata": {
    "collapsed": true
   },
   "outputs": [],
   "source": []
  }
 ],
 "metadata": {
  "kernelspec": {
   "display_name": "Python 3",
   "language": "python",
   "name": "python3"
  },
  "language_info": {
   "codemirror_mode": {
    "name": "ipython",
    "version": 3
   },
   "file_extension": ".py",
   "mimetype": "text/x-python",
   "name": "python",
   "nbconvert_exporter": "python",
   "pygments_lexer": "ipython3",
   "version": "3.5.3"
  }
 },
 "nbformat": 4,
 "nbformat_minor": 2
}
